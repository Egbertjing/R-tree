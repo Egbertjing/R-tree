{
 "cells": [
  {
   "cell_type": "code",
   "execution_count": 1,
   "metadata": {},
   "outputs": [],
   "source": [
    "import pandas as pd\n",
    "data = pd.read_csv('outputfile.csv', nrows=10000)"
   ]
  },
  {
   "cell_type": "code",
   "execution_count": 2,
   "metadata": {},
   "outputs": [
    {
     "name": "stdout",
     "output_type": "stream",
     "text": [
      "               X            Y      Z      Red    Green     Blue\n",
      "0     314519.896  5809580.105  10.65  59136.0  60672.0  60160.0\n",
      "1     314520.576  5809744.605  10.79  56320.0  57856.0  57344.0\n",
      "2     314671.596  5809679.185   2.49  43008.0  41728.0  36096.0\n",
      "3     314555.476  5809679.825   6.31  13056.0  15872.0  12288.0\n",
      "4     314920.796  5809913.535  -0.46  13568.0  23552.0  22784.0\n",
      "...          ...          ...    ...      ...      ...      ...\n",
      "9995  314518.996  5809885.725   4.29  29184.0  37120.0  21760.0\n",
      "9996  314594.566  5809744.845   3.82  56064.0  58624.0  60928.0\n",
      "9997  314777.266  5809672.905  15.65  53248.0  54528.0  53504.0\n",
      "9998  314747.606  5809543.035   3.00  30976.0  29952.0  20224.0\n",
      "9999  314884.206  5809563.025   1.92  35328.0  29440.0  21248.0\n",
      "\n",
      "[10000 rows x 6 columns]\n"
     ]
    }
   ],
   "source": [
    "print(data)\n",
    "data.to_csv('Data/point_data.txt', sep='\\t', index=True, header=False)"
   ]
  },
  {
   "cell_type": "code",
   "execution_count": 5,
   "metadata": {},
   "outputs": [
    {
     "name": "stdout",
     "output_type": "stream",
     "text": [
      "              x_min          x_max         y_min         y_max      z_min  \\\n",
      "0     314519.737978  314519.998755  5.809580e+06  5.809580e+06  10.485771   \n",
      "1     314520.428415  314520.681643  5.809744e+06  5.809745e+06  10.599954   \n",
      "2     314671.397930  314671.767711  5.809679e+06  5.809679e+06   2.305941   \n",
      "3     314555.280782  314555.585801  5.809680e+06  5.809680e+06   6.155517   \n",
      "4     314920.668753  314920.926938  5.809913e+06  5.809914e+06  -0.604116   \n",
      "...             ...            ...           ...           ...        ...   \n",
      "9995  314518.880777  314519.164164  5.809886e+06  5.809886e+06   4.187078   \n",
      "9996  314594.458891  314594.764617  5.809745e+06  5.809745e+06   3.715266   \n",
      "9997  314777.133786  314777.366299  5.809673e+06  5.809673e+06  15.483446   \n",
      "9998  314747.442653  314747.740587  5.809543e+06  5.809543e+06   2.868877   \n",
      "9999  314884.030283  314884.346489  5.809563e+06  5.809563e+06   1.775375   \n",
      "\n",
      "          z_max  \n",
      "0     10.815195  \n",
      "1     10.983889  \n",
      "2      2.648104  \n",
      "3      6.421030  \n",
      "4     -0.342522  \n",
      "...         ...  \n",
      "9995   4.435602  \n",
      "9996   3.921121  \n",
      "9997  15.799040  \n",
      "9998   3.195612  \n",
      "9999   2.087346  \n",
      "\n",
      "[10000 rows x 6 columns]\n"
     ]
    },
    {
     "name": "stderr",
     "output_type": "stream",
     "text": [
      "/tmp/ipykernel_1653/1654861001.py:3: SettingWithCopyWarning: \n",
      "A value is trying to be set on a copy of a slice from a DataFrame.\n",
      "Try using .loc[row_indexer,col_indexer] = value instead\n",
      "\n",
      "See the caveats in the documentation: https://pandas.pydata.org/pandas-docs/stable/user_guide/indexing.html#returning-a-view-versus-a-copy\n",
      "  data_rectangles['x_min'] = data_rectangles['X'] - np.random.uniform(0.1, 0.2, len(data_rectangles))\n",
      "/tmp/ipykernel_1653/1654861001.py:4: SettingWithCopyWarning: \n",
      "A value is trying to be set on a copy of a slice from a DataFrame.\n",
      "Try using .loc[row_indexer,col_indexer] = value instead\n",
      "\n",
      "See the caveats in the documentation: https://pandas.pydata.org/pandas-docs/stable/user_guide/indexing.html#returning-a-view-versus-a-copy\n",
      "  data_rectangles['x_max'] = data_rectangles['X'] + np.random.uniform(0.1, 0.2, len(data_rectangles))\n"
     ]
    }
   ],
   "source": [
    "import numpy as np\n",
    "data_rectangles = data[['X','Y','Z']]\n",
    "data_rectangles['x_min'] = data_rectangles['X'] - np.random.uniform(0.1, 0.2, len(data_rectangles))\n",
    "data_rectangles['x_max'] = data_rectangles['X'] + np.random.uniform(0.1, 0.2, len(data_rectangles)) \n",
    "data_rectangles['y_min'] = data_rectangles['Y'] - np.random.uniform(0.1, 0.2, len(data_rectangles))\n",
    "data_rectangles['y_max'] = data_rectangles['Y'] + np.random.uniform(0.1, 0.2, len(data_rectangles))\n",
    "data_rectangles['z_min'] = data_rectangles['Z'] - np.random.uniform(0.1, 0.2, len(data_rectangles))\n",
    "data_rectangles['z_max'] = data_rectangles['Z'] + np.random.uniform(0.1, 0.2, len(data_rectangles))\n",
    "data_rectangles = data_rectangles[['x_min','x_max','y_min', 'y_max', 'z_min', 'z_max']]\n",
    "print(data_rectangles)\n",
    "data_rectangles.to_csv('Data/data_rectangles.txt', sep='\\t', index=True, header=False)"
   ]
  },
  {
   "cell_type": "code",
   "execution_count": 7,
   "metadata": {},
   "outputs": [
    {
     "data": {
      "text/html": [
       "<div>\n",
       "<style scoped>\n",
       "    .dataframe tbody tr th:only-of-type {\n",
       "        vertical-align: middle;\n",
       "    }\n",
       "\n",
       "    .dataframe tbody tr th {\n",
       "        vertical-align: top;\n",
       "    }\n",
       "\n",
       "    .dataframe thead th {\n",
       "        text-align: right;\n",
       "    }\n",
       "</style>\n",
       "<table border=\"1\" class=\"dataframe\">\n",
       "  <thead>\n",
       "    <tr style=\"text-align: right;\">\n",
       "      <th></th>\n",
       "      <th>x_min</th>\n",
       "      <th>x_max</th>\n",
       "      <th>y_min</th>\n",
       "      <th>y_max</th>\n",
       "      <th>z_min</th>\n",
       "      <th>z_max</th>\n",
       "    </tr>\n",
       "  </thead>\n",
       "  <tbody>\n",
       "    <tr>\n",
       "      <th>count</th>\n",
       "      <td>10000.000000</td>\n",
       "      <td>10000.000000</td>\n",
       "      <td>1.000000e+04</td>\n",
       "      <td>1.000000e+04</td>\n",
       "      <td>10000.000000</td>\n",
       "      <td>10000.000000</td>\n",
       "    </tr>\n",
       "    <tr>\n",
       "      <th>mean</th>\n",
       "      <td>314735.255210</td>\n",
       "      <td>314735.554714</td>\n",
       "      <td>5.809742e+06</td>\n",
       "      <td>5.809742e+06</td>\n",
       "      <td>7.713227</td>\n",
       "      <td>8.012371</td>\n",
       "    </tr>\n",
       "    <tr>\n",
       "      <th>std</th>\n",
       "      <td>136.501183</td>\n",
       "      <td>136.501458</td>\n",
       "      <td>1.392802e+02</td>\n",
       "      <td>1.392802e+02</td>\n",
       "      <td>14.406707</td>\n",
       "      <td>14.406103</td>\n",
       "    </tr>\n",
       "    <tr>\n",
       "      <th>min</th>\n",
       "      <td>314499.843777</td>\n",
       "      <td>314500.181670</td>\n",
       "      <td>5.809500e+06</td>\n",
       "      <td>5.809500e+06</td>\n",
       "      <td>-7.553751</td>\n",
       "      <td>-7.284444</td>\n",
       "    </tr>\n",
       "    <tr>\n",
       "      <th>25%</th>\n",
       "      <td>314618.585521</td>\n",
       "      <td>314618.894862</td>\n",
       "      <td>5.809625e+06</td>\n",
       "      <td>5.809626e+06</td>\n",
       "      <td>1.772937</td>\n",
       "      <td>2.075858</td>\n",
       "    </tr>\n",
       "    <tr>\n",
       "      <th>50%</th>\n",
       "      <td>314732.558745</td>\n",
       "      <td>314732.810381</td>\n",
       "      <td>5.809731e+06</td>\n",
       "      <td>5.809731e+06</td>\n",
       "      <td>3.662175</td>\n",
       "      <td>3.952290</td>\n",
       "    </tr>\n",
       "    <tr>\n",
       "      <th>75%</th>\n",
       "      <td>314844.840605</td>\n",
       "      <td>314845.138505</td>\n",
       "      <td>5.809860e+06</td>\n",
       "      <td>5.809860e+06</td>\n",
       "      <td>8.475058</td>\n",
       "      <td>8.774178</td>\n",
       "    </tr>\n",
       "    <tr>\n",
       "      <th>max</th>\n",
       "      <td>314999.867648</td>\n",
       "      <td>315000.175627</td>\n",
       "      <td>5.810000e+06</td>\n",
       "      <td>5.810000e+06</td>\n",
       "      <td>185.969622</td>\n",
       "      <td>186.260258</td>\n",
       "    </tr>\n",
       "  </tbody>\n",
       "</table>\n",
       "</div>"
      ],
      "text/plain": [
       "               x_min          x_max         y_min         y_max         z_min  \\\n",
       "count   10000.000000   10000.000000  1.000000e+04  1.000000e+04  10000.000000   \n",
       "mean   314735.255210  314735.554714  5.809742e+06  5.809742e+06      7.713227   \n",
       "std       136.501183     136.501458  1.392802e+02  1.392802e+02     14.406707   \n",
       "min    314499.843777  314500.181670  5.809500e+06  5.809500e+06     -7.553751   \n",
       "25%    314618.585521  314618.894862  5.809625e+06  5.809626e+06      1.772937   \n",
       "50%    314732.558745  314732.810381  5.809731e+06  5.809731e+06      3.662175   \n",
       "75%    314844.840605  314845.138505  5.809860e+06  5.809860e+06      8.475058   \n",
       "max    314999.867648  315000.175627  5.810000e+06  5.810000e+06    185.969622   \n",
       "\n",
       "              z_max  \n",
       "count  10000.000000  \n",
       "mean       8.012371  \n",
       "std       14.406103  \n",
       "min       -7.284444  \n",
       "25%        2.075858  \n",
       "50%        3.952290  \n",
       "75%        8.774178  \n",
       "max      186.260258  "
      ]
     },
     "execution_count": 7,
     "metadata": {},
     "output_type": "execute_result"
    }
   ],
   "source": [
    "data_rectangles.describe()"
   ]
  }
 ],
 "metadata": {
  "kernelspec": {
   "display_name": "fyp",
   "language": "python",
   "name": "python3"
  },
  "language_info": {
   "codemirror_mode": {
    "name": "ipython",
    "version": 3
   },
   "file_extension": ".py",
   "mimetype": "text/x-python",
   "name": "python",
   "nbconvert_exporter": "python",
   "pygments_lexer": "ipython3",
   "version": "3.12.0"
  }
 },
 "nbformat": 4,
 "nbformat_minor": 2
}
